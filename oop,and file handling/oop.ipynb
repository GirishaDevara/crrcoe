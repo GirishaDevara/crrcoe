{
 "cells": [
  {
   "cell_type": "markdown",
   "metadata": {},
   "source": [
    "## Introduction to OOPs in Python\n",
    "Python is a multi-paradigm programming language. Means it supports functional programming,it supports object-oriented programming and it also works with procedure oriented programming.\n",
    "\n",
    "#### procedure oriented programming: \n",
    "simply consist of a series of computational steps to be carried out. During a program’s execution, any given procedure might be called at any point, including by other procedures or itself.\n",
    "\n",
    "### Object-Oriented Programming:\n",
    "- **Object** : is the physical entity representing the memory\n",
    "- **attributes** : nothing but variables\n",
    "- **behavior** : methods\n",
    "- **Class**: A class is a logical entity contains  logic of the application.class is blueprint for the object (it decides object creation)\n",
    "\n",
    "## Define a Class:"
   ]
  },
  {
   "cell_type": "code",
   "execution_count": 3,
   "metadata": {},
   "outputs": [],
   "source": [
    "class myclass1:\n",
    "    pass"
   ]
  },
  {
   "cell_type": "code",
   "execution_count": 4,
   "metadata": {},
   "outputs": [],
   "source": [
    "class myclass2():\n",
    "    pass\n",
    "class myclass3(object):\n",
    "    pass"
   ]
  },
  {
   "cell_type": "markdown",
   "metadata": {},
   "source": [
    "In python 3.X class is child class of a Object, where as python 2.Xclass is not a child class of object."
   ]
  },
  {
   "cell_type": "code",
   "execution_count": 5,
   "metadata": {},
   "outputs": [
    {
     "name": "stdout",
     "output_type": "stream",
     "text": [
      "True\n",
      "True\n",
      "True\n"
     ]
    }
   ],
   "source": [
    "print(issubclass(myclass1,object))\n",
    "print(issubclass(myclass2,object))\n",
    "print(issubclass(myclass3,object))"
   ]
  },
  {
   "cell_type": "markdown",
   "metadata": {},
   "source": [
    "### declairing the function inciside the class\n",
    " - to represent this function is belongs to class we need to mention **self** and it is mendetory"
   ]
  },
  {
   "cell_type": "code",
   "execution_count": 12,
   "metadata": {},
   "outputs": [],
   "source": [
    "class Myclass:\n",
    "    def disp1(self): \n",
    "        print(\"hi\")\n",
    "    def disp2(self,name):\n",
    "        print(\"good morning\", name)"
   ]
  },
  {
   "cell_type": "code",
   "execution_count": 13,
   "metadata": {},
   "outputs": [
    {
     "name": "stdout",
     "output_type": "stream",
     "text": [
      "hi\n"
     ]
    }
   ],
   "source": [
    "a = Myclass()\n",
    "a.disp1()"
   ]
  },
  {
   "cell_type": "code",
   "execution_count": 14,
   "metadata": {},
   "outputs": [
    {
     "name": "stdout",
     "output_type": "stream",
     "text": [
      "good morning crrcoe\n"
     ]
    }
   ],
   "source": [
    "a.disp2('crrcoe')"
   ]
  },
  {
   "cell_type": "markdown",
   "metadata": {},
   "source": [
    "## Declairing the variable inside the class\n",
    "- to represent class variable always use **self** key word"
   ]
  },
  {
   "cell_type": "code",
   "execution_count": 17,
   "metadata": {},
   "outputs": [
    {
     "data": {
      "text/plain": [
       "112"
      ]
     },
     "execution_count": 17,
     "metadata": {},
     "output_type": "execute_result"
    }
   ],
   "source": [
    "class MyClassart():\n",
    "    a = 23\n",
    "    b = 89\n",
    "    def add(self):\n",
    "        return self.a+self.b\n",
    "    def mul(self):\n",
    "        return self.a*self.b\n",
    "art = MyClassart()\n",
    "art.add()"
   ]
  },
  {
   "cell_type": "code",
   "execution_count": 18,
   "metadata": {},
   "outputs": [
    {
     "data": {
      "text/plain": [
       "2047"
      ]
     },
     "execution_count": 18,
     "metadata": {},
     "output_type": "execute_result"
    }
   ],
   "source": [
    "art.mul()"
   ]
  },
  {
   "cell_type": "markdown",
   "metadata": {},
   "source": [
    "## local , class and global variable"
   ]
  },
  {
   "cell_type": "code",
   "execution_count": 19,
   "metadata": {},
   "outputs": [
    {
     "name": "stdout",
     "output_type": "stream",
     "text": [
      "9 1\n",
      "2 4\n",
      "10 20\n"
     ]
    }
   ],
   "source": [
    "i,j = 10,20 # global variable\n",
    "class MyClassVars():\n",
    "    a = 2\n",
    "    b = 4     # Class variable\n",
    "    def add(self,x,y): # loacl variable\n",
    "        print(x,y)\n",
    "        print(self.a,self.b)\n",
    "        print(i,j)\n",
    "obj = MyClassVars()\n",
    "obj.add(9,1)"
   ]
  },
  {
   "cell_type": "markdown",
   "metadata": {},
   "source": [
    "## local , class and global variable with same names\n",
    "we need to use globals()['varname']"
   ]
  },
  {
   "cell_type": "code",
   "execution_count": 20,
   "metadata": {},
   "outputs": [
    {
     "name": "stdout",
     "output_type": "stream",
     "text": [
      "9 1 10\n",
      "2 4 6\n",
      "10 20 30\n"
     ]
    }
   ],
   "source": [
    "a,b = 10,20 # global variable\n",
    "class MyClassVars():\n",
    "    a = 2\n",
    "    b = 4     # Class variable\n",
    "    def add(self,a,b): # loacl variable\n",
    "        print(a,b, a+b)\n",
    "        print(self.a,self.b,self.a+self.b)\n",
    "        print(globals()['a'],globals()['b'],globals()['a']+globals()['b'])\n",
    "obj = MyClassVars()\n",
    "obj.add(9,1)"
   ]
  },
  {
   "cell_type": "markdown",
   "metadata": {},
   "source": [
    "### named object and name less object\n",
    "named object has reference variable\n",
    "\n",
    "name less object doesn't refer any variable\n",
    "\n",
    "Note : each object has different memorys"
   ]
  },
  {
   "cell_type": "code",
   "execution_count": 21,
   "metadata": {},
   "outputs": [],
   "source": [
    "class Myclass4():\n",
    "    def disp4(self):\n",
    "        print(\"hello\")\n",
    "obj4 = Myclass4()"
   ]
  },
  {
   "cell_type": "code",
   "execution_count": 22,
   "metadata": {},
   "outputs": [
    {
     "name": "stdout",
     "output_type": "stream",
     "text": [
      "hello\n"
     ]
    }
   ],
   "source": [
    "obj4.disp4()"
   ]
  },
  {
   "cell_type": "code",
   "execution_count": 23,
   "metadata": {},
   "outputs": [
    {
     "name": "stdout",
     "output_type": "stream",
     "text": [
      "hello\n"
     ]
    }
   ],
   "source": [
    "Myclass4().disp4()"
   ]
  },
  {
   "cell_type": "markdown",
   "metadata": {},
   "source": [
    "## instance and static method"
   ]
  },
  {
   "cell_type": "code",
   "execution_count": 30,
   "metadata": {},
   "outputs": [],
   "source": [
    "class MyClass5():\n",
    "    def m1(self):\n",
    "        return \"instance method\"\n",
    "    @staticmethod\n",
    "    def m2():\n",
    "        print(\"static method\")"
   ]
  },
  {
   "cell_type": "code",
   "execution_count": 31,
   "metadata": {},
   "outputs": [
    {
     "name": "stdout",
     "output_type": "stream",
     "text": [
      "instance method\n",
      "static method\n"
     ]
    }
   ],
   "source": [
    "obj5 = MyClass5()\n",
    "print(obj5.m1())\n",
    "obj5.m2()"
   ]
  },
  {
   "cell_type": "code",
   "execution_count": null,
   "metadata": {},
   "outputs": [],
   "source": []
  },
  {
   "cell_type": "markdown",
   "metadata": {},
   "source": [
    "# Constructor \n",
    "Constuctor methods are automatically executed when we are creating objects"
   ]
  },
  {
   "cell_type": "code",
   "execution_count": 32,
   "metadata": {},
   "outputs": [
    {
     "name": "stdout",
     "output_type": "stream",
     "text": [
      "constructor\n",
      "method\n"
     ]
    }
   ],
   "source": [
    "class ConClass():\n",
    "    def __init__(self):\n",
    "        print(\"constructor\")\n",
    "    def mymethod(self):\n",
    "        print(\"method\")\n",
    "c = ConClass()\n",
    "c.mymethod()"
   ]
  },
  {
   "cell_type": "markdown",
   "metadata": {},
   "source": [
    "#### callling current class methods"
   ]
  },
  {
   "cell_type": "code",
   "execution_count": 33,
   "metadata": {},
   "outputs": [
    {
     "name": "stdout",
     "output_type": "stream",
     "text": [
      "method1\n",
      "method2 12\n"
     ]
    }
   ],
   "source": [
    "class CallCurrentClassMethods:\n",
    "    def method1(self):\n",
    "        print('method1')\n",
    "        self.method2(12)\n",
    "    def method2(self,a):\n",
    "        print('method2',a)\n",
    "        \n",
    "        \n",
    "obj6 = CallCurrentClassMethods()\n",
    "obj6.method1()"
   ]
  },
  {
   "cell_type": "markdown",
   "metadata": {},
   "source": [
    "## `__str__`\n",
    "Called by the str() built-in function and by the print statement to compute the ``informal`` string representation of an object. This differs from __repr__() in that it does not have to be a valid Python expression"
   ]
  },
  {
   "cell_type": "code",
   "execution_count": 34,
   "metadata": {},
   "outputs": [],
   "source": [
    "class ClassStr():\n",
    "    def __str__(self):\n",
    "        return \"it is only prints string data\""
   ]
  },
  {
   "cell_type": "code",
   "execution_count": 35,
   "metadata": {},
   "outputs": [
    {
     "name": "stdout",
     "output_type": "stream",
     "text": [
      "it is only prints string data\n"
     ]
    }
   ],
   "source": [
    "obj7 = ClassStr()\n",
    "print(obj7)"
   ]
  },
  {
   "cell_type": "markdown",
   "metadata": {},
   "source": [
    "## `__del__` \n",
    "destructor, Called when the instance is about to be destroyed."
   ]
  },
  {
   "cell_type": "code",
   "execution_count": 36,
   "metadata": {},
   "outputs": [],
   "source": [
    "class ClassDel:\n",
    "    pass\n",
    "c1 = ClassDel()\n",
    "c2 = ClassDel()"
   ]
  },
  {
   "cell_type": "code",
   "execution_count": 37,
   "metadata": {},
   "outputs": [],
   "source": [
    "del c1"
   ]
  },
  {
   "cell_type": "code",
   "execution_count": 38,
   "metadata": {},
   "outputs": [],
   "source": [
    "del c2"
   ]
  },
  {
   "cell_type": "code",
   "execution_count": 39,
   "metadata": {},
   "outputs": [],
   "source": [
    "class ClassDel:\n",
    "    def __del__(self):\n",
    "        print('distroyed..')\n",
    "c1 = ClassDel()\n",
    "c2 = ClassDel()"
   ]
  },
  {
   "cell_type": "code",
   "execution_count": 40,
   "metadata": {},
   "outputs": [
    {
     "name": "stdout",
     "output_type": "stream",
     "text": [
      "distroyed..\n"
     ]
    }
   ],
   "source": [
    "del c1"
   ]
  },
  {
   "cell_type": "code",
   "execution_count": 41,
   "metadata": {},
   "outputs": [
    {
     "name": "stdout",
     "output_type": "stream",
     "text": [
      "distroyed..\n"
     ]
    }
   ],
   "source": [
    "del c2"
   ]
  },
  {
   "cell_type": "markdown",
   "metadata": {},
   "source": [
    "#### for more details [Special method names](https://docs.python.org/2.0/ref/specialnames.html 'Python docs')"
   ]
  },
  {
   "cell_type": "markdown",
   "metadata": {},
   "source": [
    "Main building blocks of Object Oriented Programming is :\n",
    "- Inheritance\n",
    "- Polymorphism\n",
    "- Encapsulation\n",
    "- Abstraction  "
   ]
  },
  {
   "cell_type": "markdown",
   "metadata": {},
   "source": [
    "# Inheritance \n",
    "Inheritance is a way of creating new class for using details of existing class without modifying it. The newly formed class is a derived class (or child class). Similarly, the existing class is a base class (or parent class).\n",
    "                    \n",
    "                    or\n",
    "the process of creating a new class by using the properties of exsiting class."
   ]
  },
  {
   "cell_type": "code",
   "execution_count": 42,
   "metadata": {},
   "outputs": [],
   "source": [
    "class ParentClass():\n",
    "    def m1(self):\n",
    "        print(\"parent class\")\n",
    "class ChildClass(ParentClass):\n",
    "    def m2(self):\n",
    "        print(\"child class\")"
   ]
  },
  {
   "cell_type": "code",
   "execution_count": 43,
   "metadata": {},
   "outputs": [],
   "source": [
    "p = ParentClass()\n",
    "c = ChildClass()"
   ]
  },
  {
   "cell_type": "code",
   "execution_count": 44,
   "metadata": {},
   "outputs": [
    {
     "name": "stdout",
     "output_type": "stream",
     "text": [
      "parent class\n"
     ]
    }
   ],
   "source": [
    "p.m1()"
   ]
  },
  {
   "cell_type": "code",
   "execution_count": 45,
   "metadata": {},
   "outputs": [
    {
     "name": "stdout",
     "output_type": "stream",
     "text": [
      "parent class\n"
     ]
    }
   ],
   "source": [
    "c.m1()"
   ]
  },
  {
   "cell_type": "code",
   "execution_count": 46,
   "metadata": {},
   "outputs": [
    {
     "name": "stdout",
     "output_type": "stream",
     "text": [
      "child class\n"
     ]
    }
   ],
   "source": [
    "c.m2()"
   ]
  },
  {
   "cell_type": "code",
   "execution_count": 47,
   "metadata": {},
   "outputs": [
    {
     "ename": "AttributeError",
     "evalue": "'ParentClass' object has no attribute 'm2'",
     "output_type": "error",
     "traceback": [
      "\u001b[1;31m---------------------------------------------------------------------------\u001b[0m",
      "\u001b[1;31mAttributeError\u001b[0m                            Traceback (most recent call last)",
      "\u001b[1;32m<ipython-input-47-10bc5ef500d1>\u001b[0m in \u001b[0;36m<module>\u001b[1;34m\u001b[0m\n\u001b[1;32m----> 1\u001b[1;33m \u001b[0mp\u001b[0m\u001b[1;33m.\u001b[0m\u001b[0mm2\u001b[0m\u001b[1;33m(\u001b[0m\u001b[1;33m)\u001b[0m\u001b[1;33m\u001b[0m\u001b[1;33m\u001b[0m\u001b[0m\n\u001b[0m",
      "\u001b[1;31mAttributeError\u001b[0m: 'ParentClass' object has no attribute 'm2'"
     ]
    }
   ],
   "source": [
    "p.m2()"
   ]
  },
  {
   "cell_type": "markdown",
   "metadata": {},
   "source": [
    "### Calling Super class methods by using super( )"
   ]
  },
  {
   "cell_type": "code",
   "execution_count": 48,
   "metadata": {},
   "outputs": [],
   "source": [
    "class ParentClass():\n",
    "    def m1(self):\n",
    "        print(\"parent class\")\n",
    "class ChildClass(ParentClass):\n",
    "    def m2(self):\n",
    "        super().m1()\n",
    "        print(\"child class\")"
   ]
  },
  {
   "cell_type": "code",
   "execution_count": 49,
   "metadata": {},
   "outputs": [
    {
     "name": "stdout",
     "output_type": "stream",
     "text": [
      "parent class\n",
      "child class\n"
     ]
    }
   ],
   "source": [
    "c = ChildClass()\n",
    "c.m2()"
   ]
  },
  {
   "cell_type": "markdown",
   "metadata": {},
   "source": [
    "### Calling Super class variables"
   ]
  },
  {
   "cell_type": "code",
   "execution_count": 50,
   "metadata": {},
   "outputs": [],
   "source": [
    "class Parent():\n",
    "    a = 10 \n",
    "    b = 20 # parent class variable\n",
    "\n",
    "class Child(Parent):\n",
    "    x = 100\n",
    "    y = 200 # child class variable\n",
    "    def add(self,i,j): # i, j are local variables\n",
    "        print(i+j) \n",
    "        print(self.x+self.y)\n",
    "        print(self.a+self.b)"
   ]
  },
  {
   "cell_type": "code",
   "execution_count": 51,
   "metadata": {},
   "outputs": [],
   "source": [
    "c = Child()"
   ]
  },
  {
   "cell_type": "code",
   "execution_count": 52,
   "metadata": {},
   "outputs": [
    {
     "name": "stdout",
     "output_type": "stream",
     "text": [
      "3000\n",
      "300\n",
      "30\n"
     ]
    }
   ],
   "source": [
    "c.add(1000,2000)"
   ]
  },
  {
   "cell_type": "markdown",
   "metadata": {},
   "source": [
    "### Calling Super class variables with same names"
   ]
  },
  {
   "cell_type": "code",
   "execution_count": 53,
   "metadata": {},
   "outputs": [],
   "source": [
    "class Parent():\n",
    "    a = 10 \n",
    "    b = 20 # parent class variable\n",
    "\n",
    "class Child(Parent):\n",
    "    a = 100\n",
    "    b = 200 # child class variable\n",
    "    def add(self,a,b): # local variables\n",
    "        print(a+b) \n",
    "        print(self.a+self.b)\n",
    "        print(super().a+super().b)"
   ]
  },
  {
   "cell_type": "code",
   "execution_count": 54,
   "metadata": {},
   "outputs": [],
   "source": [
    "c = Child()"
   ]
  },
  {
   "cell_type": "code",
   "execution_count": 55,
   "metadata": {},
   "outputs": [
    {
     "name": "stdout",
     "output_type": "stream",
     "text": [
      "3000\n",
      "300\n",
      "30\n"
     ]
    }
   ],
   "source": [
    "c.add(1000,2000)"
   ]
  },
  {
   "cell_type": "markdown",
   "metadata": {},
   "source": [
    "### Types of Inheritance \n",
    "    1. Single Inheritance : one parent class contains exactly on child class\n",
    "    2. Multilevel Inheritance : level by level\n",
    "    3. Multiple Inheritance : one child class has multiple parent classes\n",
    "    4. Hierarchical Inheritance : one parents with multiple child classes\n",
    "    5. Hybrid Inheritance : This form combines more than one form of inheritance. Basically, it is a blend of more than one type of inheritance."
   ]
  },
  {
   "cell_type": "markdown",
   "metadata": {},
   "source": [
    "#### Single Inheritance"
   ]
  },
  {
   "cell_type": "code",
   "execution_count": 56,
   "metadata": {},
   "outputs": [],
   "source": [
    "class Parent():\n",
    "    pass\n",
    "class Child(Parent):\n",
    "    pass"
   ]
  },
  {
   "cell_type": "markdown",
   "metadata": {},
   "source": [
    "#### Multilevel Inheritance"
   ]
  },
  {
   "cell_type": "code",
   "execution_count": 57,
   "metadata": {},
   "outputs": [],
   "source": [
    "class GrandParent():\n",
    "    pass\n",
    "class Parent(GrandParent):\n",
    "    pass\n",
    "class child(Parent):\n",
    "    pass"
   ]
  },
  {
   "cell_type": "code",
   "execution_count": 58,
   "metadata": {},
   "outputs": [],
   "source": [
    "class GrandParent():\n",
    "    def m1(self):\n",
    "        print('m1')\n",
    "class Parent(GrandParent):\n",
    "    def m2(self):\n",
    "        print('m2')\n",
    "class child(Parent):\n",
    "    def m3(self):\n",
    "        print('m3')"
   ]
  },
  {
   "cell_type": "code",
   "execution_count": 59,
   "metadata": {},
   "outputs": [
    {
     "name": "stdout",
     "output_type": "stream",
     "text": [
      "m1\n"
     ]
    }
   ],
   "source": [
    "c = child()\n",
    "c.m1()"
   ]
  },
  {
   "cell_type": "code",
   "execution_count": 60,
   "metadata": {},
   "outputs": [
    {
     "name": "stdout",
     "output_type": "stream",
     "text": [
      "m2\n"
     ]
    }
   ],
   "source": [
    "c.m2()"
   ]
  },
  {
   "cell_type": "code",
   "execution_count": 61,
   "metadata": {},
   "outputs": [
    {
     "name": "stdout",
     "output_type": "stream",
     "text": [
      "m3\n"
     ]
    }
   ],
   "source": [
    "c.m3()"
   ]
  },
  {
   "cell_type": "markdown",
   "metadata": {},
   "source": [
    "#### Multiple Inheritance"
   ]
  },
  {
   "cell_type": "code",
   "execution_count": 62,
   "metadata": {},
   "outputs": [],
   "source": [
    "class A:\n",
    "    pass\n",
    "class B:\n",
    "    pass\n",
    "class c(A,B):\n",
    "    pass"
   ]
  },
  {
   "cell_type": "code",
   "execution_count": 63,
   "metadata": {},
   "outputs": [],
   "source": [
    "class Parent1:\n",
    "    def m1(self):\n",
    "        print('Parent1 m1 method')\n",
    "class Parent2:\n",
    "    def m2(self):\n",
    "        print('Parent2 m2 method')\n",
    "class child(Parent1,Parent2):\n",
    "    def m3(self):\n",
    "        print('child m3 method')"
   ]
  },
  {
   "cell_type": "code",
   "execution_count": 64,
   "metadata": {},
   "outputs": [
    {
     "name": "stdout",
     "output_type": "stream",
     "text": [
      "Parent1 m1 method\n"
     ]
    }
   ],
   "source": [
    "c = child()\n",
    "c.m1()"
   ]
  },
  {
   "cell_type": "code",
   "execution_count": 65,
   "metadata": {},
   "outputs": [
    {
     "name": "stdout",
     "output_type": "stream",
     "text": [
      "Parent2 m2 method\n"
     ]
    }
   ],
   "source": [
    "c.m2()"
   ]
  },
  {
   "cell_type": "code",
   "execution_count": 66,
   "metadata": {},
   "outputs": [
    {
     "name": "stdout",
     "output_type": "stream",
     "text": [
      "child m3 method\n"
     ]
    }
   ],
   "source": [
    "c.m3()"
   ]
  },
  {
   "cell_type": "markdown",
   "metadata": {},
   "source": [
    "#### Hierarchical Inheritance"
   ]
  },
  {
   "cell_type": "code",
   "execution_count": null,
   "metadata": {},
   "outputs": [],
   "source": [
    "class A:\n",
    "    pass\n",
    "class B(A):\n",
    "    pass\n",
    "class c(A):\n",
    "    pass"
   ]
  },
  {
   "cell_type": "code",
   "execution_count": 67,
   "metadata": {},
   "outputs": [],
   "source": [
    "class Vehicle:\n",
    "    def disp1(self):\n",
    "        print(\"Vehicle info\")\n",
    "class car(Vehicle):\n",
    "    def disp2(self):\n",
    "        print(\"car info\")\n",
    "class plane(Vehicle):\n",
    "    def disp3(self):\n",
    "        print(\"plane info\")"
   ]
  },
  {
   "cell_type": "code",
   "execution_count": 68,
   "metadata": {},
   "outputs": [
    {
     "name": "stdout",
     "output_type": "stream",
     "text": [
      "Vehicle info\n"
     ]
    }
   ],
   "source": [
    "vehicle = Vehicle()\n",
    "vehicle.disp1()"
   ]
  },
  {
   "cell_type": "code",
   "execution_count": 69,
   "metadata": {},
   "outputs": [
    {
     "name": "stdout",
     "output_type": "stream",
     "text": [
      "car info\n"
     ]
    }
   ],
   "source": [
    "car = car()\n",
    "car.disp2()"
   ]
  },
  {
   "cell_type": "markdown",
   "metadata": {},
   "source": [
    "### To check hierarchy of an object us isinstance( ) function"
   ]
  },
  {
   "cell_type": "code",
   "execution_count": 70,
   "metadata": {},
   "outputs": [
    {
     "data": {
      "text/plain": [
       "True"
      ]
     },
     "execution_count": 70,
     "metadata": {},
     "output_type": "execute_result"
    }
   ],
   "source": [
    "n = 5\n",
    "isinstance(n, int) # to know the type of the object"
   ]
  },
  {
   "cell_type": "code",
   "execution_count": 71,
   "metadata": {},
   "outputs": [],
   "source": [
    "class parent:\n",
    "    pass\n",
    "class child(parent):\n",
    "    pass\n",
    "\n",
    "p = parent()\n",
    "c = child()"
   ]
  },
  {
   "cell_type": "code",
   "execution_count": 72,
   "metadata": {},
   "outputs": [
    {
     "name": "stdout",
     "output_type": "stream",
     "text": [
      "True\n",
      "True\n",
      "True\n",
      "False\n"
     ]
    }
   ],
   "source": [
    "print(isinstance(p,parent))\n",
    "print(isinstance(c,child))\n",
    "print(isinstance(c,parent))\n",
    "print(isinstance(p,child))"
   ]
  },
  {
   "cell_type": "markdown",
   "metadata": {},
   "source": [
    "# Polymorphism \n",
    "one functionality with multiply behaviour\n",
    "\n",
    "            or\n",
    "the ability to appear in more then one form \n"
   ]
  },
  {
   "cell_type": "code",
   "execution_count": 73,
   "metadata": {
    "scrolled": true
   },
   "outputs": [
    {
     "data": {
      "text/plain": [
       "6"
      ]
     },
     "execution_count": 73,
     "metadata": {},
     "output_type": "execute_result"
    }
   ],
   "source": [
    "len(\"string\")"
   ]
  },
  {
   "cell_type": "code",
   "execution_count": 74,
   "metadata": {},
   "outputs": [
    {
     "data": {
      "text/plain": [
       "5"
      ]
     },
     "execution_count": 74,
     "metadata": {},
     "output_type": "execute_result"
    }
   ],
   "source": [
    "len([1,2,3,6,8])"
   ]
  },
  {
   "cell_type": "markdown",
   "metadata": {},
   "source": [
    "### Over riding \n",
    "implementations are already present in the parent class but tha child does not statisfied with that implementation "
   ]
  },
  {
   "cell_type": "code",
   "execution_count": 75,
   "metadata": {},
   "outputs": [
    {
     "name": "stdout",
     "output_type": "stream",
     "text": [
      "lucky\n"
     ]
    }
   ],
   "source": [
    "# over riding variable\n",
    "\n",
    "class parent:\n",
    "    name = 'lakshman'\n",
    "class child(parent):\n",
    "    name = \"lucky\"\n",
    "\n",
    "c = child()\n",
    "print(c.name)"
   ]
  },
  {
   "cell_type": "code",
   "execution_count": 76,
   "metadata": {},
   "outputs": [
    {
     "name": "stdout",
     "output_type": "stream",
     "text": [
      "lakshman\n"
     ]
    }
   ],
   "source": [
    "# with out overriding \n",
    "\n",
    "class parent:\n",
    "    name = 'lakshman'\n",
    "class child(parent):\n",
    "    pass\n",
    "\n",
    "c = child()\n",
    "print(c.name)"
   ]
  },
  {
   "cell_type": "code",
   "execution_count": 77,
   "metadata": {},
   "outputs": [
    {
     "name": "stdout",
     "output_type": "stream",
     "text": [
      "Photographer\n"
     ]
    }
   ],
   "source": [
    "# over riding methods \n",
    "\n",
    "class parent:\n",
    "    def career(self):\n",
    "        return \"Engineer\"\n",
    "class child(parent):\n",
    "    def career(self):\n",
    "        return \"Photographer\"\n",
    "\n",
    "c = child()\n",
    "print(c.career())"
   ]
  },
  {
   "cell_type": "markdown",
   "metadata": {},
   "source": [
    "# Encapsulation\n",
    "the process of binding the data  (binding the data means other persons can not access the data)\n",
    "\n",
    "for binding the data we need to use private modifier here we represent it with __\n",
    "\n",
    "we can access private data with in the class only"
   ]
  },
  {
   "cell_type": "code",
   "execution_count": 78,
   "metadata": {},
   "outputs": [
    {
     "name": "stdout",
     "output_type": "stream",
     "text": [
      "10\n"
     ]
    }
   ],
   "source": [
    "# private attribute\n",
    "\n",
    "class A:\n",
    "    __a = 10\n",
    "    def disp(self):\n",
    "        print(self.__a)\n",
    "obj = A()\n",
    "obj.disp()"
   ]
  },
  {
   "cell_type": "code",
   "execution_count": 79,
   "metadata": {},
   "outputs": [
    {
     "ename": "AttributeError",
     "evalue": "'A' object has no attribute '__a'",
     "output_type": "error",
     "traceback": [
      "\u001b[1;31m---------------------------------------------------------------------------\u001b[0m",
      "\u001b[1;31mAttributeError\u001b[0m                            Traceback (most recent call last)",
      "\u001b[1;32m<ipython-input-79-12ce154418bb>\u001b[0m in \u001b[0;36m<module>\u001b[1;34m\u001b[0m\n\u001b[1;32m----> 1\u001b[1;33m \u001b[0mobj\u001b[0m\u001b[1;33m.\u001b[0m\u001b[0m__a\u001b[0m\u001b[1;33m\u001b[0m\u001b[1;33m\u001b[0m\u001b[0m\n\u001b[0m",
      "\u001b[1;31mAttributeError\u001b[0m: 'A' object has no attribute '__a'"
     ]
    }
   ],
   "source": [
    "obj.__a"
   ]
  },
  {
   "cell_type": "code",
   "execution_count": 80,
   "metadata": {},
   "outputs": [
    {
     "name": "stdout",
     "output_type": "stream",
     "text": [
      "this is calling private method\n",
      "this is a private method\n"
     ]
    }
   ],
   "source": [
    "# private methods\n",
    "\n",
    "class Myclass:\n",
    "    def __disp(self):\n",
    "        print('this is a private method')\n",
    "    def disp2(self):\n",
    "        print('this is calling private method')\n",
    "        self.__disp()\n",
    "\n",
    "obj = Myclass()\n",
    "obj.disp2()"
   ]
  },
  {
   "cell_type": "code",
   "execution_count": 81,
   "metadata": {},
   "outputs": [
    {
     "ename": "AttributeError",
     "evalue": "'Myclass' object has no attribute '__disp'",
     "output_type": "error",
     "traceback": [
      "\u001b[1;31m---------------------------------------------------------------------------\u001b[0m",
      "\u001b[1;31mAttributeError\u001b[0m                            Traceback (most recent call last)",
      "\u001b[1;32m<ipython-input-81-cd7a01f41b3c>\u001b[0m in \u001b[0;36m<module>\u001b[1;34m\u001b[0m\n\u001b[1;32m----> 1\u001b[1;33m \u001b[0mobj\u001b[0m\u001b[1;33m.\u001b[0m\u001b[0m__disp\u001b[0m\u001b[1;33m(\u001b[0m\u001b[1;33m)\u001b[0m\u001b[1;33m\u001b[0m\u001b[1;33m\u001b[0m\u001b[0m\n\u001b[0m",
      "\u001b[1;31mAttributeError\u001b[0m: 'Myclass' object has no attribute '__disp'"
     ]
    }
   ],
   "source": [
    "obj.__disp()"
   ]
  },
  {
   "cell_type": "markdown",
   "metadata": {},
   "source": [
    "### Getter and setter \n",
    "\n",
    "to access private data **indirectly** we use this getter and setter methods\n"
   ]
  },
  {
   "cell_type": "code",
   "execution_count": 82,
   "metadata": {
    "collapsed": true
   },
   "outputs": [
    {
     "ename": "AttributeError",
     "evalue": "'Employee' object has no attribute '__id'",
     "output_type": "error",
     "traceback": [
      "\u001b[1;31m---------------------------------------------------------------------------\u001b[0m",
      "\u001b[1;31mAttributeError\u001b[0m                            Traceback (most recent call last)",
      "\u001b[1;32m<ipython-input-82-26cdee32b7d7>\u001b[0m in \u001b[0;36m<module>\u001b[1;34m\u001b[0m\n\u001b[0;32m      8\u001b[0m         \u001b[1;32mreturn\u001b[0m \u001b[0mself\u001b[0m\u001b[1;33m.\u001b[0m\u001b[0m__id\u001b[0m\u001b[1;33m\u001b[0m\u001b[1;33m\u001b[0m\u001b[0m\n\u001b[0;32m      9\u001b[0m \u001b[0me\u001b[0m \u001b[1;33m=\u001b[0m \u001b[0mEmployee\u001b[0m\u001b[1;33m(\u001b[0m\u001b[1;33m)\u001b[0m\u001b[1;33m\u001b[0m\u001b[1;33m\u001b[0m\u001b[0m\n\u001b[1;32m---> 10\u001b[1;33m \u001b[0mprint\u001b[0m\u001b[1;33m(\u001b[0m\u001b[0me\u001b[0m\u001b[1;33m.\u001b[0m\u001b[0m__id\u001b[0m\u001b[1;33m)\u001b[0m\u001b[1;33m\u001b[0m\u001b[1;33m\u001b[0m\u001b[0m\n\u001b[0m",
      "\u001b[1;31mAttributeError\u001b[0m: 'Employee' object has no attribute '__id'"
     ]
    }
   ],
   "source": [
    "class Employee():\n",
    "    __id = 111\n",
    "    \n",
    "    def set_eid(self,eid):\n",
    "        self.__id = eid\n",
    "    \n",
    "    def get_eid(self):\n",
    "        return self.__id\n",
    "e = Employee()\n",
    "print(e.__id)"
   ]
  },
  {
   "cell_type": "code",
   "execution_count": 83,
   "metadata": {},
   "outputs": [
    {
     "name": "stdout",
     "output_type": "stream",
     "text": [
      "111\n"
     ]
    }
   ],
   "source": [
    "print(e.get_eid())"
   ]
  },
  {
   "cell_type": "code",
   "execution_count": 84,
   "metadata": {},
   "outputs": [
    {
     "name": "stdout",
     "output_type": "stream",
     "text": [
      "333\n"
     ]
    }
   ],
   "source": [
    "e.set_eid(333)\n",
    "print(e.get_eid())"
   ]
  },
  {
   "cell_type": "markdown",
   "metadata": {},
   "source": [
    "# Abstraction\n",
    "the process of highlighting the services and hiding the implementation in child class\n",
    "\n",
    "Abstraction class just showing declarations but the implementations are made with child classes\n",
    "\n",
    "it is a special kind of class for wich we can not create a object\n",
    "\n",
    "to make your class is abstract class, your class must be child of ABC class (ABC is predefined abstract class, available in ABC module)"
   ]
  },
  {
   "cell_type": "code",
   "execution_count": 85,
   "metadata": {},
   "outputs": [],
   "source": [
    "from abc import ABC, abstractmethod\n",
    "class A(ABC):\n",
    "    @abstractmethod # to specify this method is abstract method\n",
    "    def m1(self): # only declaration\n",
    "        pass"
   ]
  },
  {
   "cell_type": "code",
   "execution_count": 86,
   "metadata": {},
   "outputs": [
    {
     "name": "stdout",
     "output_type": "stream",
     "text": [
      "good morning\n"
     ]
    }
   ],
   "source": [
    "class A(ABC):\n",
    "    @abstractmethod\n",
    "    def disp(self):\n",
    "        pass\n",
    "class B(A):\n",
    "    def disp(self):\n",
    "        print(\"good morning\")\n",
    "b = B()\n",
    "b.disp()"
   ]
  },
  {
   "cell_type": "code",
   "execution_count": 87,
   "metadata": {},
   "outputs": [
    {
     "ename": "TypeError",
     "evalue": "Can't instantiate abstract class A with abstract methods disp",
     "output_type": "error",
     "traceback": [
      "\u001b[1;31m---------------------------------------------------------------------------\u001b[0m",
      "\u001b[1;31mTypeError\u001b[0m                                 Traceback (most recent call last)",
      "\u001b[1;32m<ipython-input-87-7f181d8f00b8>\u001b[0m in \u001b[0;36m<module>\u001b[1;34m\u001b[0m\n\u001b[1;32m----> 1\u001b[1;33m \u001b[0ma\u001b[0m \u001b[1;33m=\u001b[0m \u001b[0mA\u001b[0m\u001b[1;33m(\u001b[0m\u001b[1;33m)\u001b[0m\u001b[1;33m\u001b[0m\u001b[1;33m\u001b[0m\u001b[0m\n\u001b[0m",
      "\u001b[1;31mTypeError\u001b[0m: Can't instantiate abstract class A with abstract methods disp"
     ]
    }
   ],
   "source": [
    "a = A()"
   ]
  },
  {
   "cell_type": "code",
   "execution_count": 88,
   "metadata": {},
   "outputs": [
    {
     "name": "stdout",
     "output_type": "stream",
     "text": [
      "non veg\n"
     ]
    }
   ],
   "source": [
    "class person(ABC):\n",
    "    @abstractmethod\n",
    "    def eats(self):\n",
    "        pass\n",
    "class satya(person):\n",
    "    def eats(self):\n",
    "        print(\"non veg\")\n",
    "class ankith(person):\n",
    "    def eats(self):\n",
    "        print(\"veg\")\n",
    "satya = satya()\n",
    "satya.eats()"
   ]
  },
  {
   "cell_type": "code",
   "execution_count": 89,
   "metadata": {},
   "outputs": [
    {
     "name": "stdout",
     "output_type": "stream",
     "text": [
      "veg\n"
     ]
    }
   ],
   "source": [
    "ankith = ankith()\n",
    "ankith.eats()"
   ]
  },
  {
   "cell_type": "code",
   "execution_count": 90,
   "metadata": {},
   "outputs": [
    {
     "ename": "TypeError",
     "evalue": "Can't instantiate abstract class B with abstract methods disp2",
     "output_type": "error",
     "traceback": [
      "\u001b[1;31m---------------------------------------------------------------------------\u001b[0m",
      "\u001b[1;31mTypeError\u001b[0m                                 Traceback (most recent call last)",
      "\u001b[1;32m<ipython-input-90-e7cecce310b2>\u001b[0m in \u001b[0;36m<module>\u001b[1;34m\u001b[0m\n\u001b[0;32m     12\u001b[0m     \u001b[1;32mdef\u001b[0m \u001b[0mdisp2\u001b[0m\u001b[1;33m(\u001b[0m\u001b[0mself\u001b[0m\u001b[1;33m)\u001b[0m\u001b[1;33m:\u001b[0m\u001b[1;33m\u001b[0m\u001b[1;33m\u001b[0m\u001b[0m\n\u001b[0;32m     13\u001b[0m         \u001b[0mprint\u001b[0m\u001b[1;33m(\u001b[0m\u001b[1;34m\"Hello\"\u001b[0m\u001b[1;33m)\u001b[0m\u001b[1;33m\u001b[0m\u001b[1;33m\u001b[0m\u001b[0m\n\u001b[1;32m---> 14\u001b[1;33m \u001b[0mb\u001b[0m \u001b[1;33m=\u001b[0m \u001b[0mB\u001b[0m\u001b[1;33m(\u001b[0m\u001b[1;33m)\u001b[0m\u001b[1;33m\u001b[0m\u001b[1;33m\u001b[0m\u001b[0m\n\u001b[0m\u001b[0;32m     15\u001b[0m \u001b[0mb\u001b[0m\u001b[1;33m.\u001b[0m\u001b[0mdisp1\u001b[0m\u001b[1;33m(\u001b[0m\u001b[1;33m)\u001b[0m\u001b[1;33m\u001b[0m\u001b[1;33m\u001b[0m\u001b[0m\n",
      "\u001b[1;31mTypeError\u001b[0m: Can't instantiate abstract class B with abstract methods disp2"
     ]
    }
   ],
   "source": [
    "class A(ABC):\n",
    "    @abstractmethod\n",
    "    def disp1(self):\n",
    "        pass\n",
    "    @abstractmethod\n",
    "    def disp2(self):\n",
    "        pass  \n",
    "class B(A):\n",
    "    def disp1(self):\n",
    "        print(\"Hi\")\n",
    "class C(B):\n",
    "    def disp2(self):\n",
    "        print(\"Hello\")\n",
    "b = B()\n",
    "b.disp1()"
   ]
  },
  {
   "cell_type": "code",
   "execution_count": 91,
   "metadata": {},
   "outputs": [
    {
     "name": "stdout",
     "output_type": "stream",
     "text": [
      "Hi\n"
     ]
    }
   ],
   "source": [
    "c = C()\n",
    "c.disp1()"
   ]
  },
  {
   "cell_type": "code",
   "execution_count": null,
   "metadata": {},
   "outputs": [],
   "source": [
    "c.disp2()"
   ]
  },
  {
   "cell_type": "markdown",
   "metadata": {},
   "source": [
    "##### in absabstract class we can declare constructors"
   ]
  },
  {
   "cell_type": "code",
   "execution_count": 92,
   "metadata": {},
   "outputs": [],
   "source": [
    "class A(ABC):\n",
    "    def __init__(self,value):\n",
    "        self.value = value\n",
    "    @abstractmethod\n",
    "    def disp(self):\n",
    "        pass\n",
    "class add(A):\n",
    "    def disp(self):\n",
    "        print(10+self.value)\n",
    "class mul(A):\n",
    "    def disp(self):\n",
    "        print(10*self.value)"
   ]
  },
  {
   "cell_type": "code",
   "execution_count": 93,
   "metadata": {},
   "outputs": [],
   "source": [
    "a = add(10)\n",
    "b = mul(5)"
   ]
  },
  {
   "cell_type": "code",
   "execution_count": 94,
   "metadata": {},
   "outputs": [
    {
     "name": "stdout",
     "output_type": "stream",
     "text": [
      "20\n"
     ]
    }
   ],
   "source": [
    "a.disp()"
   ]
  },
  {
   "cell_type": "code",
   "execution_count": 95,
   "metadata": {},
   "outputs": [
    {
     "name": "stdout",
     "output_type": "stream",
     "text": [
      "50\n"
     ]
    }
   ],
   "source": [
    "b.disp()"
   ]
  },
  {
   "cell_type": "code",
   "execution_count": null,
   "metadata": {},
   "outputs": [],
   "source": [
    "https://github.com/GirishaDevara/crrcoe"
   ]
  }
 ],
 "metadata": {
  "kernelspec": {
   "display_name": "Python 3",
   "language": "python",
   "name": "python3"
  },
  "language_info": {
   "codemirror_mode": {
    "name": "ipython",
    "version": 3
   },
   "file_extension": ".py",
   "mimetype": "text/x-python",
   "name": "python",
   "nbconvert_exporter": "python",
   "pygments_lexer": "ipython3",
   "version": "3.7.3"
  }
 },
 "nbformat": 4,
 "nbformat_minor": 2
}
