{
 "cells": [
  {
   "cell_type": "code",
   "execution_count": null,
   "metadata": {},
   "outputs": [],
   "source": [
    "#Load the libraries\n",
    "import pandas as pd #To work with dataset\n",
    "import numpy as np #Math library\n",
    "import seaborn as sns #graph library which uses matplotlib in background\n",
    "import matplotlib.pyplot as plt\n",
    "#Importing the data\n",
    "df_credit =pd.read_csv(\"data.csv\")\n",
    "df_credit.head()"
   ]
  },
  {
   "cell_type": "code",
   "execution_count": null,
   "metadata": {},
   "outputs": [],
   "source": [
    "print(df_credit.shape)\n",
    "df_credit.info()"
   ]
  },
  {
   "cell_type": "code",
   "execution_count": null,
   "metadata": {},
   "outputs": [],
   "source": [
    "#Looking the unique values\n",
    "print(df_credit.nunique())\n",
    "#Looking the data\n",
    "df_credit.head()"
   ]
  },
  {
   "cell_type": "code",
   "execution_count": null,
   "metadata": {},
   "outputs": [],
   "source": [
    "fig,ax = plt.subplots(figsize =(12,12),nrows = 2)\n",
    "g1 = sns.boxplot(x = \"Job\",y=\"Credit amount\",data = df_credit,palette = \"hls\",\n",
    "                ax = ax[0],hue = \"Risk\")\n",
    "g1.set_title(\"Credit Amount by Job\",fontsize = 15)\n",
    "g1.set_xlabel(\"Job Reference\",fontsize = 12)\n",
    "g1.set_ylabel(\"Credit Amount\",fontsize = 12)\n",
    "g2 = sns.violinplot(x = \"Job\",y = \"Age\",data =df_credit,ax = ax[1],hue = \"Risk\",\n",
    "                   split = True,palette = \"hls\")\n",
    "g2.set_title(\"Job Reference x Age \",fontsize = 15)\n",
    "g2.set_xlabel(\"Job Reference\",fontsize = 12)\n",
    "g2.set_ylabel(\"Age\",fontsize = 12)\n",
    "plt.subplots_adjust(hspace = 0.4,top = 0.9)\n",
    "plt.show()"
   ]
  },
  {
   "cell_type": "code",
   "execution_count": null,
   "metadata": {},
   "outputs": [],
   "source": [
    "print(\"Description of Distribution Savings accounts by Risk: \")\n",
    "print(pd.crosstab(df_credit[\"Saving accounts\"],df_credit.Risk))\n",
    "fig,ax = plt.subplots(3,1,figsize =(12,12))\n",
    "g = sns.countplot(x = \"Saving accounts\",data = df_credit,palette = 'hls',\n",
    "                 ax = ax[0],hue = \"Risk\")\n",
    "g.set_title(\"Savings accounts count\",fontsize = 15)\n",
    "g.set_xlabel(\"Savings accounts type\",fontsize = 12)\n",
    "g.set_ylabel(\"Count\",fontsize = 12)\n",
    "g1 = sns.violinplot(x = \"Saving accounts\",y = \"Job\",data =df_credit,\n",
    "                    ax = ax[1],hue = \"Risk\",\n",
    "                   split = True,palette = \"hls\")\n",
    "g1.set_title(\"Savings accounts by Job \",fontsize = 15)\n",
    "g1.set_xlabel(\"Savings Account type\",fontsize = 12)\n",
    "g1.set_ylabel(\"Job\",fontsize = 12)\n",
    "\n",
    "g = sns.boxplot(x = \"Saving accounts\",y=\"Credit amount\",\n",
    "                data = df_credit,palette = \"hls\",\n",
    "                ax = ax[2],hue = \"Risk\")\n",
    "g.set_title(\"Savings accounts by Credit Amount \",fontsize = 15)\n",
    "g.set_xlabel(\"Savings Account type\",fontsize = 12)\n",
    "g.set_ylabel(\"Credit Amount\",fontsize = 12)\n",
    "plt.subplots_adjust(hspace=0.4,top = 0.9)\n",
    "plt.show()"
   ]
  },
  {
   "cell_type": "code",
   "execution_count": null,
   "metadata": {},
   "outputs": [],
   "source": [
    "print(\"Values describe:\")\n",
    "print(pd.crosstab(df_credit.Purpose,df_credit.Risk))\n",
    "plt.figure(figsize = (14,12))\n",
    "plt.subplot(221)\n",
    "g = sns.countplot(x = \"Purpose\",data = df_credit,palette = 'hls',\n",
    "                 hue = \"Risk\")\n",
    "g.set_xticklabels(g.get_xticklabels(),rotation = 45)\n",
    "g.set_title(\"Purposes Count\",fontsize = 15)\n",
    "g.set_xlabel(\"\",fontsize = 12)\n",
    "g.set_ylabel(\"Count\",fontsize = 12)\n",
    "plt.subplot(222)\n",
    "g1 = sns.violinplot(x = \"Purpose\",y = \"Age\",data =df_credit,\n",
    "                    hue = \"Risk\",\n",
    "                   split = True,palette = \"hls\")\n",
    "g1.set_xticklabels(g1.get_xticklabels(),rotation = 45)\n",
    "g1.set_title(\"Purpose by Age\",fontsize = 15)\n",
    "g1.set_xlabel(\"\",fontsize = 12)\n",
    "g1.set_ylabel(\"Count\",fontsize = 12)\n",
    "plt.subplot(212)\n",
    "g2 = sns.boxplot(x = \"Purpose\",y=\"Credit amount\",\n",
    "                data = df_credit,palette = \"hls\",\n",
    "                hue = \"Risk\")\n",
    "g2.set_title(\"Credit Amount Distribution by Purposes\",fontsize = 15)\n",
    "g.set_xlabel(\"Purposes\",fontsize = 12)\n",
    "g.set_ylabel(\"Credit Amount\",fontsize = 12)\n",
    "plt.subplots_adjust(hspace=0.6,top = 0.9)\n",
    "plt.show()"
   ]
  },
  {
   "cell_type": "code",
   "execution_count": null,
   "metadata": {},
   "outputs": [],
   "source": [
    "print(\"Total values of the most missing variable:\")\n",
    "print(df_credit.groupby(\"Checking account\")[\"Checking account\"].count())\n",
    "plt.figure(figsize = (12,10))\n",
    "g = plt.subplot(221)\n",
    "g = sns.countplot(x = \"Checking account\",data = df_credit,palette = 'hls',\n",
    "                 hue = \"Risk\")\n",
    "g.set_title(\"Checking account count by risk\",fontsize = 15)\n",
    "g.set_xlabel(\"Checking acccount\",fontsize = 12)\n",
    "g.set_ylabel(\"Count\",fontsize = 12)\n",
    "g1 = plt.subplot(222)\n",
    "g1 = sns.violinplot(x = \"Checking account\",y = \"Age\",data =df_credit,\n",
    "                    hue = \"Risk\",\n",
    "                   split = True,palette = \"hls\")\n",
    "g1.set_title(\"Checking account by Age\",fontsize = 15)\n",
    "g1.set_xlabel(\"Checking account\",fontsize = 12)\n",
    "g1.set_ylabel(\"Age\",fontsize = 12)\n",
    "plt.subplot(212)\n",
    "g2 = sns.boxplot(x = \"Checking account\",y=\"Credit amount\",\n",
    "                data = df_credit,palette = \"hls\",\n",
    "                hue = \"Risk\")\n",
    "g2.set_title(\"Credit Amount by Checking account\",fontsize = 15)\n",
    "g.set_xlabel(\"Checking account\",fontsize = 12)\n",
    "g.set_ylabel(\"Credit Amount\",fontsize = 12)\n",
    "plt.subplots_adjust(wspace = 0.2,hspace=0.6,top = 0.9)\n",
    "plt.show()\n",
    "plt.show()"
   ]
  },
  {
   "cell_type": "code",
   "execution_count": null,
   "metadata": {},
   "outputs": [],
   "source": [
    "print(pd.crosstab(df_credit.Sex,df_credit.Job))"
   ]
  },
  {
   "cell_type": "code",
   "execution_count": null,
   "metadata": {},
   "outputs": [],
   "source": [
    "plt.figure(figsize = (10,6))\n",
    "g = sns.violinplot(x = \"Housing\",y = \"Job\",data=df_credit,hue = \"Risk\",\n",
    "                  palette = 'hls',split = True)\n",
    "g.set_title(\"Housing x Job\",fontsize = 15)\n",
    "g.set_xlabel(\"Housing\",fontsize = 12)\n",
    "g.set_ylabel(\"Job\",fontsize = 12)\n",
    "plt.show()"
   ]
  },
  {
   "cell_type": "code",
   "execution_count": null,
   "metadata": {},
   "outputs": [],
   "source": [
    "print(pd.crosstab(df_credit[\"Checking account\"],df_credit.Sex))"
   ]
  },
  {
   "cell_type": "code",
   "execution_count": null,
   "metadata": {},
   "outputs": [],
   "source": [
    "d = ['Purpose','Sex']\n",
    "cm = sns.light_palette(\"blue\",as_cmap = True)\n",
    "pd.crosstab(df_credit[d[0]],df_credit[d[1]]).style.background_gradient(cmap = cm)"
   ]
  },
  {
   "cell_type": "code",
   "execution_count": null,
   "metadata": {},
   "outputs": [],
   "source": [
    "interval = (18,25,35,60,120)\n",
    "cats = ['Student','Young','Adult','Senior']\n",
    "df_credit['Age_cat'] = pd.cut(df_credit.Age,interval,labels=cats)\n",
    "print('Purpose:',df_credit.Purpose.unique())\n",
    "print('Sex:',df_credit.Sex.unique())\n",
    "print('Housing:',df_credit.Housing.unique())\n",
    "print('Saving accounts:',df_credit['Saving accounts'].unique())\n",
    "print(\"Risk:\",df_credit[\"Risk\"].unique())\n",
    "print(\"Checking account:\",df_credit[\"Checking account\"].unique())\n",
    "print(\"Age_cat:\",df_credit['Age_cat'].unique())"
   ]
  },
  {
   "cell_type": "code",
   "execution_count": null,
   "metadata": {},
   "outputs": [],
   "source": [
    "df_credit['Saving accounts'] = df_credit['Saving accounts'].fillna('no_inf')\n",
    "df_credit['Checking account'] = df_credit['Checking account'].fillna('no_inf')\n",
    "\n",
    "#Purpose to dummies\n",
    "df_credit = df_credit.merge(pd.get_dummies(df_credit.Purpose,drop_first = True,\n",
    "                                          prefix = 'Purpose'),left_index = True,\n",
    "                           right_index = True)\n",
    "#Sex feature in dummies\n",
    "df_credit = df_credit.merge(pd.get_dummies(df_credit.Sex,drop_first = True,\n",
    "                                          prefix = 'Sex'),left_index = True,\n",
    "                           right_index = True)\n",
    "#Hosuing\n",
    "df_credit = df_credit.merge(pd.get_dummies(df_credit.Housing,drop_first = True,\n",
    "                                          prefix = 'Housing'),left_index = True,\n",
    "                           right_index = True)\n",
    "#Housing get Saving account\n",
    "df_credit = df_credit.merge(pd.get_dummies(df_credit['Saving accounts'],\n",
    "                                           drop_first = True,\n",
    "                                          prefix = 'Savings'),left_index = True,\n",
    "                           right_index = True)\n",
    "#Risk\n",
    "df_credit = df_credit.merge(pd.get_dummies(df_credit.Risk,\n",
    "                                          prefix = 'Risk'),left_index = True,\n",
    "                           right_index = True)\n",
    "#Housing get Checking account\n",
    "df_credit = df_credit.merge(pd.get_dummies(df_credit['Checking account'],\n",
    "                                           drop_first = True,\n",
    "                                          prefix = 'Check'),left_index = True,\n",
    "                           right_index = True)\n",
    "#Housing get Age Categories\n",
    "df_credit = df_credit.merge(pd.get_dummies(df_credit['Age_cat'],\n",
    "                                           drop_first = True,\n",
    "                                          prefix = 'Age_cat'),left_index = True,\n",
    "                           right_index = True)"
   ]
  },
  {
   "cell_type": "code",
   "execution_count": null,
   "metadata": {},
   "outputs": [],
   "source": [
    "print(df_credit.shape)\n",
    "df_credit"
   ]
  },
  {
   "cell_type": "code",
   "execution_count": null,
   "metadata": {},
   "outputs": [],
   "source": [
    "del df_credit[\"Saving accounts\"]\n",
    "del df_credit[\"Checking account\"]\n",
    "del df_credit[\"Purpose\"]\n",
    "del df_credit[\"Sex\"]\n",
    "del df_credit[\"Housing\"]\n",
    "del df_credit[\"Age_cat\"]\n",
    "del df_credit[\"Risk\"]\n",
    "del df_credit[\"Risk_good\"]"
   ]
  },
  {
   "cell_type": "code",
   "execution_count": null,
   "metadata": {},
   "outputs": [],
   "source": [
    "df_credit.shape"
   ]
  },
  {
   "cell_type": "code",
   "execution_count": null,
   "metadata": {},
   "outputs": [],
   "source": [
    "from sklearn.model_selection import train_test_split,KFold,cross_val_score\n",
    "from sklearn.metrics import accuracy_score,confusion_matrix,classification_report,\\\n",
    "                        fbeta_score\n",
    "from sklearn.model_selection import GridSearchCV\n",
    "from sklearn.ensemble import RandomForestClassifier\n",
    "df_credit['Credit amount'] = np.log(df_credit['Credit amount'])\n",
    "#Create X and y variables\n",
    "X = df_credit.drop('Risk_bad',1).values\n",
    "y = df_credit[\"Risk_bad\"].values\n",
    "#Splitting X and y into train and test version\n",
    "X_train,X_test,y_train,y_test = train_test_split(X,y,test_size = 0.25,\n",
    "                                                 random_state = 42)\n",
    "seed = 7\n",
    "#prepare models\n",
    "models =[]\n",
    "models.append(('RF',RandomForestClassifier()))\n",
    "\n",
    "#evaluate each model in turn\n",
    "results = []\n",
    "names = []\n",
    "scoring = 'recall'\n",
    "#k-fold CV , training set is split into 'k' smaller sets\n",
    "for name,model in models:\n",
    "    kfold = KFold(n_splits = 10,random_state = seed)\n",
    "    cv_results = cross_val_score(model,X_train,y_train,cv = kfold,\n",
    "                                 scoring = scoring)\n",
    "    results.append(cv_results)\n",
    "    names.append(name)\n",
    "    msg = \"%s: %f (%f)\" %(name,cv_results.mean(),cv_results.std())\n",
    "    print(msg)\n",
    "#boxplot\n",
    "fig = plt.figure(figsize = (11,6))\n",
    "fig.suptitle('Algorithm Comparision')\n",
    "ax= fig.add_subplot(111)\n",
    "plt.boxplot(results)\n",
    "ax.set_xticklabels(names)\n",
    "plt.show()"
   ]
  },
  {
   "cell_type": "code",
   "execution_count": null,
   "metadata": {},
   "outputs": [],
   "source": [
    "param_grid = {'max_depth':[3,5,7,10,None],\n",
    "             'n_estimators':[3,5,10,25,50,150],\n",
    "             'max_features':[4,7,15,20]}\n",
    "\n",
    "#creating the classifier\n",
    "model = RandomForestClassifier(random_state = 2)\n",
    "grid_search = GridSearchCV(model,param_grid=param_grid,cv=5,\\\n",
    "                          scoring = 'recall',verbose = 4,n_jobs = -1)\n",
    "grid_search.fit(X_train,y_train)\n",
    "print(grid_search.best_score_)\n",
    "print(grid_search.best_params_)"
   ]
  },
  {
   "cell_type": "code",
   "execution_count": null,
   "metadata": {},
   "outputs": [],
   "source": [
    "rf = RandomForestClassifier(max_depth = None,max_features = 15,n_estimators = 3,\\\n",
    "                           random_state=2)\n",
    "rf.fit(X_train,y_train)\n",
    "y_pred = rf.predict(X_test)\n",
    "print(confusion_matrix(y_test,y_pred))\n",
    "print(\"\\n\")\n",
    "print(accuracy_score(y_test,y_pred))"
   ]
  },
  {
   "cell_type": "code",
   "execution_count": null,
   "metadata": {},
   "outputs": [],
   "source": []
  },
  {
   "cell_type": "code",
   "execution_count": null,
   "metadata": {},
   "outputs": [],
   "source": []
  }
 ],
 "metadata": {
  "kernelspec": {
   "display_name": "Python 3",
   "language": "python",
   "name": "python3"
  },
  "language_info": {
   "codemirror_mode": {
    "name": "ipython",
    "version": 3
   },
   "file_extension": ".py",
   "mimetype": "text/x-python",
   "name": "python",
   "nbconvert_exporter": "python",
   "pygments_lexer": "ipython3",
   "version": "3.7.3"
  }
 },
 "nbformat": 4,
 "nbformat_minor": 2
}
